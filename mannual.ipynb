{
 "cells": [
  {
   "cell_type": "code",
   "execution_count": 1,
   "metadata": {},
   "outputs": [],
   "source": [
    "%load_ext autoreload\n",
    "%autoreload 2"
   ]
  },
  {
   "cell_type": "markdown",
   "metadata": {},
   "source": [
    "# 1. 環境変数取得\n",
    ".env.sampleをコピーして.envを作成し、各ファイルへのパスを記載"
   ]
  },
  {
   "cell_type": "code",
   "execution_count": 2,
   "metadata": {},
   "outputs": [],
   "source": [
    "import os\n",
    "from pathlib import Path\n",
    "\n",
    "from dotenv import load_dotenv\n",
    "\n",
    "load_dotenv()\n",
    "TEMU_FILE = Path(os.environ.get('TEMU_FILE'))\n",
    "MEDUTX_FILE = Path(os.environ.get('MEDUTX_FILE'))\n",
    "MESHD_FILE = Path(os.environ.get('MESHD_FILE'))\n",
    "MESHC_FILE = Path(os.environ.get('MESHC_FILE'))"
   ]
  },
  {
   "cell_type": "markdown",
   "metadata": {},
   "source": [
    "---"
   ]
  },
  {
   "cell_type": "markdown",
   "metadata": {},
   "source": [
    "# 2. 辞書読み込み\n",
    "*ここで\"辞書\"は日英辞書など一般的な意味での辞書を意味し、Pythonデータ構造のdictを意味しないことに注意  \n",
    "utils.data.Dictionaryクラスを継承すれば任意の辞書を追加可能"
   ]
  },
  {
   "cell_type": "code",
   "execution_count": 3,
   "metadata": {},
   "outputs": [],
   "source": [
    "from utils.dictionary import MEDUTX, TEMU"
   ]
  },
  {
   "cell_type": "code",
   "execution_count": 4,
   "metadata": {},
   "outputs": [
    {
     "name": "stdout",
     "output_type": "stream",
     "text": [
      "dictionary name: temu\n",
      "-- 27,668 word pairs\n",
      "---- 10,738 unique English words\t\n",
      "---- 16,756 unique Japanese words\t\n"
     ]
    }
   ],
   "source": [
    "temu = TEMU()\n",
    "temu.read(TEMU_FILE)\n",
    "print(temu)"
   ]
  },
  {
   "cell_type": "code",
   "execution_count": 5,
   "metadata": {},
   "outputs": [
    {
     "name": "stdout",
     "output_type": "stream",
     "text": [
      "dictionary name: medutx\n",
      "-- 27,122 word pairs\n",
      "---- 22,276 unique English words\t\n",
      "---- 21,821 unique Japanese words\t\n"
     ]
    }
   ],
   "source": [
    "medutx = MEDUTX()\n",
    "medutx.read(MEDUTX_FILE)\n",
    "print(medutx)"
   ]
  },
  {
   "cell_type": "markdown",
   "metadata": {},
   "source": [
    "## 2-1. それぞれの日英辞書、英日辞書を取得"
   ]
  },
  {
   "cell_type": "code",
   "execution_count": 6,
   "metadata": {},
   "outputs": [],
   "source": [
    "temu_ja = temu.ja\n",
    "temu_en = temu.en\n",
    "medutx_ja = medutx.ja\n",
    "medutx_en = medutx.en"
   ]
  },
  {
   "cell_type": "code",
   "execution_count": 7,
   "metadata": {},
   "outputs": [
    {
     "name": "stdout",
     "output_type": "stream",
     "text": [
      "# TEMU ja sample\n",
      "1回仕事量 {'names_en': {'stroke work'}, 'mesh_ids': set()}\n",
      "1回心拍出係数 {'names_en': {'SI (stroke index)', 'SVI (stroke volume index)'}, 'mesh_ids': set()}\n",
      "1回心拍出量 {'names_en': {'SV (stroke volume)'}, 'mesh_ids': set()}\n",
      "\n",
      "# TEMU en sample\n",
      "11-beta-hydroxylase deficiency {'names_ja': {'１１βヒドロキシラーゼ欠損症'}, 'mesh_ids': set()}\n",
      "17 ketosteroids urine {'names_ja': {'尿中１７ケトステロイド'}, 'mesh_ids': set()}\n",
      "17 ketosteroids urine decreased {'names_ja': {'尿中１７ケトステロイド減少'}, 'mesh_ids': set()}\n",
      "\n",
      "# MEDUTX ja sample\n",
      " 受身移入 {'names_en': {'passive transfer'}, 'mesh_ids': set()}\n",
      " 心室全体の駆出分画 {'names_en': {'global ejection fraction'}, 'mesh_ids': set()}\n",
      " 振子様心 {'names_en': {'cor pendulum'}, 'mesh_ids': set()}\n",
      "\n",
      "# MEDUTX en sample\n",
      "1/2 T vector {'names_ja': {'1/2Tベクトル'}, 'mesh_ids': set()}\n",
      "1/2FF {'names_ja': {'1/2拡張分画'}, 'mesh_ids': set()}\n",
      "1/3 ER mean {'names_ja': {'駆出早期1/3での平均駆出速度'}, 'mesh_ids': set()}\n"
     ]
    }
   ],
   "source": [
    "# smaple\n",
    "num = 3\n",
    "\n",
    "print('# TEMU ja sample')\n",
    "for i, (k, v) in enumerate(temu_ja.items()):\n",
    "    if i >= num:\n",
    "        break\n",
    "    print(k, v)\n",
    "print()\n",
    "\n",
    "print('# TEMU en sample')\n",
    "for i, (k, v) in enumerate(temu_en.items()):\n",
    "    if i >= num:\n",
    "        break\n",
    "    print(k, v)\n",
    "print()\n",
    "\n",
    "print('# MEDUTX ja sample')\n",
    "for i, (k, v) in enumerate(medutx_ja.items()):\n",
    "    if i >= num:\n",
    "        break\n",
    "    print(k, v)\n",
    "print()\n",
    "\n",
    "print('# MEDUTX en sample')\n",
    "for i, (k, v) in enumerate(medutx_en.items()):\n",
    "    if i >= num:\n",
    "        break\n",
    "    print(k, v)"
   ]
  },
  {
   "cell_type": "markdown",
   "metadata": {},
   "source": [
    "## 2-2. TEMU辞書とMEDUTX辞書を結合\n",
    "utils.data.combine関数に辞書のリストを代入することで結合した辞書を取得"
   ]
  },
  {
   "cell_type": "code",
   "execution_count": 8,
   "metadata": {},
   "outputs": [
    {
     "name": "stdout",
     "output_type": "stream",
     "text": [
      "dictionary name: temu + medutx\n",
      "-- 54,790 word pairs\n",
      "---- 30,853 unique English words\t\n",
      "---- 35,903 unique Japanese words\t\n"
     ]
    }
   ],
   "source": [
    "from utils.dictionary import combine_dict\n",
    "\n",
    "combined_dict = combine_dict([temu, medutx])\n",
    "print(combined_dict)"
   ]
  },
  {
   "cell_type": "markdown",
   "metadata": {},
   "source": [
    "---"
   ]
  },
  {
   "cell_type": "markdown",
   "metadata": {},
   "source": [
    "# 3. MeSH読み込み"
   ]
  },
  {
   "cell_type": "code",
   "execution_count": 9,
   "metadata": {},
   "outputs": [],
   "source": [
    "from utils.mesh import MeshDescriptor, MeshSupplementary"
   ]
  },
  {
   "cell_type": "code",
   "execution_count": 10,
   "metadata": {},
   "outputs": [
    {
     "name": "stdout",
     "output_type": "stream",
     "text": [
      "dictionary name: MeSH Descriptor\n",
      "-- 242,205 unique MeSH terms\t\n",
      "-- 29,640 unique MeSH IDs\t\n"
     ]
    }
   ],
   "source": [
    "meshd = MeshDescriptor()\n",
    "meshd.read(MESHD_FILE)\n",
    "print(meshd)"
   ]
  },
  {
   "cell_type": "code",
   "execution_count": 11,
   "metadata": {},
   "outputs": [
    {
     "name": "stdout",
     "output_type": "stream",
     "text": [
      "dictionary name: MeSH Supplementary\n",
      "-- 649,372 unique MeSH terms\t\n",
      "-- 268,838 unique MeSH IDs\t\n"
     ]
    }
   ],
   "source": [
    "meshc = MeshSupplementary()\n",
    "meshc.read(MESHC_FILE)\n",
    "print(meshc)"
   ]
  },
  {
   "cell_type": "markdown",
   "metadata": {},
   "source": [
    "## 3-1. それぞれのID-term辞書、term-ID辞書を取得"
   ]
  },
  {
   "cell_type": "code",
   "execution_count": 12,
   "metadata": {},
   "outputs": [],
   "source": [
    "meshd_id2terms = meshd.id2terms\n",
    "meshd_term2ids = meshd.term2ids\n",
    "meshc_id2terms = meshc.id2terms\n",
    "meshc_term2ids = meshc.term2ids"
   ]
  },
  {
   "cell_type": "code",
   "execution_count": 13,
   "metadata": {
    "scrolled": true
   },
   "outputs": [
    {
     "name": "stdout",
     "output_type": "stream",
     "text": [
      "# MeHS Descriptor id2terms sample\n",
      "D000001 {'A-23187', 'A 23187', 'A23187', 'A23187, Antibiotic', 'Antibiotic A23187', 'Calcimycin'}\n",
      "D000002 {'Temefos', 'Difos', 'Abate', 'Temephos'}\n",
      "D000003 {'House, Slaughter', 'Slaughterhouses', 'Slaughterhouse', 'Abattoirs', 'Slaughter House', 'Slaughter Houses', 'Abattoir', 'Houses, Slaughter'}\n",
      "\n",
      "# MeSH Descriptor term2ids sample\n",
      "A-23187 {'D000001'}\n",
      "Calcimycin {'D000001'}\n",
      "A23187 {'D000001'}\n",
      "\n",
      "# MeSH Supplementary id2terms sample\n",
      "C000002 {'piribenzil methyl sulfate', '2-(hydroxymethyl)-N,N-dimethylpiperidinium benzilate', 'Acabel', 'bevonium sulfate (1:1)', 'bevonium methyl sulfate', 'bevonium', 'CG 201', 'bevonium metilsulfate', 'bevonium methylsulfate'}\n",
      "C000006 {'Actrapid insulin', 'insulin (swine)', 'Novo MC insulin', 'insulin, neutral', 'insulin (ox), 8(A)-L-threonine-10(A)-L-isoleucine-', 'insulin (pork)', 'neutral insulin', 'insulin pork', 'Insulin, 8A-L-threonine-10A-L-isoleucine-'}\n",
      "C000009 {'AADG', 'N(4)-(2-acetamido-2-deoxy-beta-D-glucopyranosyl)-L-asparagine', 'N(4)-(2-acetamido-2-deoxyglucopyranosyl)asparagine', 'N-ADGP-Asn', 'asparaginylglucosamine', 'aspartylglucosylamine', 'acetylglucosaminylasparagine', 'aspartylglucosamine', 'L-Asparagine, N-(2-acetylamino)-2-deoxy-beta-D-glucopyranosyl-', 'aspartylglycosamine', 'N-acetylglucosaminylasparagine', '2-acetamido-1-(beta-L-aspartamido)-1,2-dideoxy-beta-D-glucose', \"2-acetamido-1-N-(4'-L-aspartyl)-2-deoxy-beta-D-glucopyranosylamine\", 'N-(2-acetylamino)-2-deoxy-beta-D-glucopyranosyl-L-asparagine', '4-N-2-acetamido-2-deoxy-beta-D-glucopyranosyl-L-asparagine'}\n",
      "\n",
      "# MeSH Supplementary term2ids sample\n",
      "piribenzil methyl sulfate {'C000002'}\n",
      "2-(hydroxymethyl)-N,N-dimethylpiperidinium benzilate {'C000002'}\n",
      "Acabel {'C000002'}\n"
     ]
    }
   ],
   "source": [
    "# smaple\n",
    "num = 3\n",
    "\n",
    "print('# MeHS Descriptor id2terms sample')\n",
    "for i, (k, v) in enumerate(meshd_id2terms.items()):\n",
    "    if i >= num:\n",
    "        break\n",
    "    print(k, v)\n",
    "print()\n",
    "\n",
    "print('# MeSH Descriptor term2ids sample')\n",
    "for i, (k, v) in enumerate(meshd_term2ids.items()):\n",
    "    if i >= num:\n",
    "        break\n",
    "    print(k, v)\n",
    "print()\n",
    "\n",
    "print('# MeSH Supplementary id2terms sample')\n",
    "for i, (k, v) in enumerate(meshc_id2terms.items()):\n",
    "    if i >= num:\n",
    "        break\n",
    "    print(k, v)\n",
    "print()\n",
    "\n",
    "print('# MeSH Supplementary term2ids sample')\n",
    "for i, (k, v) in enumerate(meshc_term2ids.items()):\n",
    "    if i >= num:\n",
    "        break\n",
    "    print(k, v)\n"
   ]
  },
  {
   "cell_type": "markdown",
   "metadata": {},
   "source": [
    "## 3-2. MeSH DiscriptorとMeSH Supplementaryを結合\n",
    "utils.data.combine関数に辞書のリストを代入することで結合した辞書を取得"
   ]
  },
  {
   "cell_type": "code",
   "execution_count": 17,
   "metadata": {
    "scrolled": true
   },
   "outputs": [
    {
     "name": "stdout",
     "output_type": "stream",
     "text": [
      "dictionary name: MeSH Descriptor + MeSH Supplementary\n",
      "-- 891,576 unique MeSH terms\t\n",
      "-- 298,478 unique MeSH IDs\t\n"
     ]
    }
   ],
   "source": [
    "from utils.mesh import combine_mesh\n",
    "\n",
    "combined_mesh = combine_mesh([meshd, meshc])\n",
    "print(combined_mesh)"
   ]
  },
  {
   "cell_type": "markdown",
   "metadata": {},
   "source": [
    "---"
   ]
  },
  {
   "cell_type": "markdown",
   "metadata": {},
   "source": [
    "# 辞書とMeSH辞書をリンク\n",
    "Dictionaryクラスのmap_meshメソッドにMeSH辞書を代入することで英単語の文字列が一致するかどうかでMeSH IDを紐づける"
   ]
  },
  {
   "cell_type": "code",
   "execution_count": 24,
   "metadata": {},
   "outputs": [
    {
     "name": "stdout",
     "output_type": "stream",
     "text": [
      "1,781/30,853 English words are mapped to MeSH IDs\n",
      "2,838/35,903 Japanese words are mapped to MeSH IDs\n"
     ]
    }
   ],
   "source": [
    "combined_dict.map_mesh(combined_mesh)"
   ]
  },
  {
   "cell_type": "code",
   "execution_count": 25,
   "metadata": {},
   "outputs": [
    {
     "name": "stdout",
     "output_type": "stream",
     "text": [
      "{'names_ja': {'自然流産'}, 'mesh_ids': {'D000022'}}\n",
      "{'names_en': {'anesthetic', 'Anesthesia', 'anesthetic drug', 'anesthetic agent', 'narcotic'}, 'mesh_ids': {'D000758'}}\n"
     ]
    }
   ],
   "source": [
    "# 英語から検索\n",
    "print(combined_dict.en['Miscarriage'])\n",
    "\n",
    "# 日本語から検索\n",
    "print(combined_dict.ja['麻酔薬'])"
   ]
  },
  {
   "cell_type": "markdown",
   "metadata": {},
   "source": [
    "---"
   ]
  },
  {
   "cell_type": "markdown",
   "metadata": {},
   "source": [
    "# chain-norm\n",
    "文字列の変換ルールを連続適用するパッケージ"
   ]
  },
  {
   "cell_type": "code",
   "execution_count": 26,
   "metadata": {
    "scrolled": true
   },
   "outputs": [
    {
     "name": "stdout",
     "output_type": "stream",
     "text": [
      "foo-bar\n",
      "ハンカク/ゼンカク/HALFWIDTH/FULLWIDTH\n",
      "Glycogen storage disease type four\n",
      "alpha-glucosidase\n",
      "200 apples\n"
     ]
    }
   ],
   "source": [
    "# Ruleクラスを継承した以下のクラスのapply()メソッドに文字列を代入することで変換\n",
    "from cnorm.rule import Lower, NormalizeJaConv, RomNum2AraNum, Greek2Alpha, Word2Num\n",
    "\n",
    "## 小文字化\n",
    "rule_lower = Lower()\n",
    "text = rule_lower.apply('FOO-BAR')\n",
    "print(text)\n",
    "\n",
    "## jaconvを使った正規化（デフォルトはNFKC）\n",
    "rule_njac = NormalizeJaConv()\n",
    "text = rule_njac.apply('ﾊﾝｶｸ/ゼンカク/HALFWIDTH/ＦＵＬＬＷＩＤＴＨ')\n",
    "print(text)\n",
    "\n",
    "## ローマ数字をアラビア数字に変換\n",
    "rule_rn2an = RomNum2AraNum()\n",
    "text = rule_rn2an.apply('Glycogen storage disease type Ⅳ')\n",
    "print(text)\n",
    "\n",
    "## ギリシャ文字をアルファベットに変換\n",
    "rule_g2a = Greek2Alpha()\n",
    "text = rule_g2a.apply('α-glucosidase')\n",
    "print(text)\n",
    "\n",
    "## 数値表現をアラビア数字に変換\n",
    "rule_w2n = Word2Num()\n",
    "text = rule_w2n.apply('two hundred apples')\n",
    "print(text)"
   ]
  },
  {
   "cell_type": "code",
   "execution_count": 27,
   "metadata": {},
   "outputs": [
    {
     "name": "stdout",
     "output_type": "stream",
     "text": [
      "type IV\n",
      "type 4\n"
     ]
    }
   ],
   "source": [
    "# 連続適用するにはChainクラスにList[Rule]を渡す\n",
    "from cnorm.data import Chain\n",
    "\n",
    "# Chainクラスのapply()メソッドで変換したテキストが返ってくる\n",
    "# *適用するRuleの順番によって結果が変わるので注意\n",
    "\n",
    "# NormalizeJaConvが\"Ⅳ\"を\"IV\"に変換するのでRomNum2AraNumが効かなくなる\n",
    "chain = Chain([rule_njac, rule_rn2an, rule_w2n])\n",
    "text = chain.apply('type Ⅳ')\n",
    "print(text)\n",
    "\n",
    "# RomNum2AraNumが先に\"Ⅳ\"を\"four\"に変換、Word2Numが\"four\"を\"4\"に変換\n",
    "chain = Chain([rule_rn2an, rule_w2n, rule_njac])\n",
    "text = chain.apply('type Ⅳ')\n",
    "print(text)"
   ]
  },
  {
   "cell_type": "markdown",
   "metadata": {},
   "source": [
    "---"
   ]
  },
  {
   "cell_type": "markdown",
   "metadata": {},
   "source": [
    "# 辞書とMeSH辞書をリンク with 文字列処理\n",
    "Dictionaryクラスのmap_meshメソッドにMeSH辞書とChainオブジェクトを代入することで文字列処理を加えた上で英単語の文字列が一致するかどうか判定する（TODO: ChainがもつRuleの数に応じて時間がかかるので高速化）"
   ]
  },
  {
   "cell_type": "code",
   "execution_count": 32,
   "metadata": {
    "scrolled": true
   },
   "outputs": [
    {
     "name": "stdout",
     "output_type": "stream",
     "text": [
      "1,781/30,853 English words are mapped to MeSH IDs\n",
      "2,838/35,903 Japanese words are mapped to MeSH IDs\n",
      "{'names_ja': {'アラビアゴム'}, 'mesh_ids': {'D000045'}}\n",
      "{'names_ja': {'アカシア'}, 'mesh_ids': set()}\n",
      "{'names_en': {'Acacia'}, 'mesh_ids': {'D000045'}}\n",
      "{'names_en': {'acacia'}, 'mesh_ids': set()}\n"
     ]
    }
   ],
   "source": [
    "# 文字列処理なし\n",
    "chain = Chain([])\n",
    "combined_dict.map_mesh(combined_mesh, chain)\n",
    "print(combined_dict.en['Acacia'])\n",
    "print(combined_dict.en['acacia'])\n",
    "print(combined_dict.ja['アラビアゴム'])\n",
    "print(combined_dict.ja['アカシア'])"
   ]
  },
  {
   "cell_type": "code",
   "execution_count": 34,
   "metadata": {},
   "outputs": [
    {
     "name": "stdout",
     "output_type": "stream",
     "text": [
      "8,867/30,853 English words are mapped to MeSH IDs\n",
      "12,406/35,903 Japanese words are mapped to MeSH IDs\n",
      "{'names_ja': {'アラビアゴム'}, 'mesh_ids': {'D000045'}}\n",
      "{'names_ja': {'アカシア'}, 'mesh_ids': {'D000045'}}\n",
      "{'names_en': {'Acacia'}, 'mesh_ids': {'D000045'}}\n",
      "{'names_en': {'acacia'}, 'mesh_ids': {'D000045'}}\n"
     ]
    }
   ],
   "source": [
    "# 小文字化\n",
    "# ヒット数増加\n",
    "chain = Chain([rule_lower])\n",
    "combined_dict.map_mesh(combined_mesh, chain)\n",
    "print(combined_dict.en['Acacia'])\n",
    "print(combined_dict.en['acacia'])\n",
    "print(combined_dict.ja['アラビアゴム'])\n",
    "print(combined_dict.ja['アカシア'])"
   ]
  },
  {
   "cell_type": "code",
   "execution_count": 35,
   "metadata": {
    "scrolled": true
   },
   "outputs": [
    {
     "name": "stdout",
     "output_type": "stream",
     "text": [
      "1,782/30,853 English words are mapped to MeSH IDs\n",
      "2,839/35,903 Japanese words are mapped to MeSH IDs\n"
     ]
    }
   ],
   "source": [
    "# jaconvで正規化（NFKC）\n",
    "# ほとんど変化なし\n",
    "chain = Chain([rule_njac])\n",
    "combined_dict.map_mesh(combined_mesh, chain)"
   ]
  },
  {
   "cell_type": "code",
   "execution_count": 36,
   "metadata": {},
   "outputs": [
    {
     "name": "stdout",
     "output_type": "stream",
     "text": [
      "1,781/30,853 English words are mapped to MeSH IDs\n",
      "2,838/35,903 Japanese words are mapped to MeSH IDs\n",
      "CPU times: user 1min 23s, sys: 68.1 ms, total: 1min 23s\n",
      "Wall time: 1min 23s\n"
     ]
    }
   ],
   "source": [
    "# ローマ数字をアラビア数字に変換\n",
    "# 変化なし\n",
    "# 処理時間: 1.5min\n",
    "chain = Chain([rule_rn2an])\n",
    "combined_dict.map_mesh(combined_mesh, chain)"
   ]
  },
  {
   "cell_type": "code",
   "execution_count": 37,
   "metadata": {},
   "outputs": [
    {
     "name": "stdout",
     "output_type": "stream",
     "text": [
      "1,790/30,853 English words are mapped to MeSH IDs\n",
      "2,857/35,903 Japanese words are mapped to MeSH IDs\n",
      "CPU times: user 8min 29s, sys: 567 ms, total: 8min 30s\n",
      "Wall time: 8min 30s\n"
     ]
    }
   ],
   "source": [
    "# ギリシャ文字をアルファベットに変換\n",
    "# ほとんど変化なし\n",
    "# 処理時間: 8.5min\n",
    "chain = Chain([rule_g2a])\n",
    "combined_dict.map_mesh(combined_mesh, chain)"
   ]
  },
  {
   "cell_type": "code",
   "execution_count": null,
   "metadata": {},
   "outputs": [],
   "source": [
    "# 小文字化, 正規化, ギリシャ文字の変換の３つのRuleを適用\n",
    "# 処理時間: 10min\n",
    "chain = Chain([rule_lower, rule_njac, rule_g2a])\n",
    "combined_dict.map_mesh(combined_mesh, chain)"
   ]
  },
  {
   "cell_type": "markdown",
   "metadata": {},
   "source": [
    "# TODO\n",
    "LSDと比較"
   ]
  }
 ],
 "metadata": {
  "kernelspec": {
   "display_name": "Python 3",
   "language": "python",
   "name": "python3"
  },
  "language_info": {
   "codemirror_mode": {
    "name": "ipython",
    "version": 3
   },
   "file_extension": ".py",
   "mimetype": "text/x-python",
   "name": "python",
   "nbconvert_exporter": "python",
   "pygments_lexer": "ipython3",
   "version": "3.8.0"
  }
 },
 "nbformat": 4,
 "nbformat_minor": 4
}
